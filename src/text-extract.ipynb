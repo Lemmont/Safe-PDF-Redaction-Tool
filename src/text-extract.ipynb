{
 "cells": [
  {
   "cell_type": "code",
   "execution_count": 1,
   "metadata": {},
   "outputs": [
    {
     "name": "stdout",
     "output_type": "stream",
     "text": [
      "Collecting pymupdf\n",
      "  Downloading PyMuPDF-1.23.6-cp38-none-manylinux2014_x86_64.whl (4.3 MB)\n",
      "\u001b[K     |████████████████████████████████| 4.3 MB 3.2 MB/s eta 0:00:01\n",
      "\u001b[?25hCollecting PyMuPDFb==1.23.6\n",
      "  Downloading PyMuPDFb-1.23.6-py3-none-manylinux2014_x86_64.manylinux_2_17_x86_64.whl (30.6 MB)\n",
      "\u001b[K     |████████████████████████████████| 30.6 MB 5.3 MB/s eta 0:00:01\n",
      "\u001b[?25hInstalling collected packages: PyMuPDFb, pymupdf\n",
      "  Attempting uninstall: PyMuPDFb\n",
      "    Found existing installation: PyMuPDFb 1.23.5\n",
      "    Uninstalling PyMuPDFb-1.23.5:\n",
      "      Successfully uninstalled PyMuPDFb-1.23.5\n",
      "  Attempting uninstall: pymupdf\n",
      "    Found existing installation: PyMuPDF 1.23.5\n",
      "    Uninstalling PyMuPDF-1.23.5:\n",
      "      Successfully uninstalled PyMuPDF-1.23.5\n",
      "Successfully installed PyMuPDFb-1.23.6 pymupdf-1.23.6\n",
      "Note: you may need to restart the kernel to use updated packages.\n"
     ]
    }
   ],
   "source": [
    "pip install --upgrade pymupdf"
   ]
  },
  {
   "cell_type": "code",
   "execution_count": 4,
   "metadata": {},
   "outputs": [],
   "source": [
    "import fitz"
   ]
  },
  {
   "cell_type": "code",
   "execution_count": 111,
   "metadata": {},
   "outputs": [],
   "source": [
    "doc = fitz.open(\"../resources/testpdf/test1.pdf\", filetype=\"pdf\")"
   ]
  },
  {
   "cell_type": "code",
   "execution_count": 112,
   "metadata": {
    "scrolled": true
   },
   "outputs": [
    {
     "data": {
      "text/plain": [
       "1"
      ]
     },
     "execution_count": 112,
     "metadata": {},
     "output_type": "execute_result"
    }
   ],
   "source": [
    "doc.page_count"
   ]
  },
  {
   "cell_type": "code",
   "execution_count": 113,
   "metadata": {},
   "outputs": [
    {
     "name": "stdout",
     "output_type": "stream",
     "text": [
      "[{'number': 0, 'type': 0, 'bbox': [56.79999923706055, 57.2073974609375, 95.5960922241211, 70.4964599609375], 'lines': [{'spans': [{'size': 12.0, 'flags': 4, 'font': 'LiberationSerif', 'color': 0, 'ascender': 0.89111328125, 'descender': -0.21630859375, 'chars': [{'origin': [56.79999923706055, 67.9007568359375], 'bbox': [56.79999923706055, 57.2073974609375, 64.13008117675781, 70.4964599609375], 'c': 'T'}, {'origin': [63.30400085449219, 67.9007568359375], 'bbox': [63.30400085449219, 57.2073974609375, 68.63017272949219, 70.4964599609375], 'c': 'e'}, {'origin': [68.60800170898438, 67.9007568359375], 'bbox': [68.60800170898438, 57.2073974609375, 73.27792358398438, 70.4964599609375], 'c': 's'}, {'origin': [73.30000305175781, 67.9007568359375], 'bbox': [73.30000305175781, 57.2073974609375, 76.63398742675781, 70.4964599609375], 'c': 't'}, {'origin': [76.5999984741211, 67.9007568359375], 'bbox': [76.5999984741211, 57.2073974609375, 79.5999984741211, 70.4964599609375], 'c': ' '}, {'origin': [79.5999984741211, 67.9007568359375], 'bbox': [79.5999984741211, 57.2073974609375, 85.5999984741211, 70.4964599609375], 'c': 'p'}, {'origin': [85.5999984741211, 67.9007568359375], 'bbox': [85.5999984741211, 57.2073974609375, 91.5999984741211, 70.4964599609375], 'c': 'd'}, {'origin': [91.5999984741211, 67.9007568359375], 'bbox': [91.5999984741211, 57.2073974609375, 95.5960922241211, 70.4964599609375], 'c': 'f'}], 'origin': [56.79999923706055, 67.9007568359375], 'bbox': [56.79999923706055, 57.2073974609375, 95.5960922241211, 70.4964599609375]}], 'wmode': 0, 'dir': [1.0, 0.0], 'bbox': [56.79999923706055, 57.2073974609375, 95.5960922241211, 70.4964599609375]}]}, {'number': 1, 'type': 0, 'bbox': [56.79999923706055, 84.80743408203125, 134.4019775390625, 98.09649658203125], 'lines': [{'spans': [{'size': 12.0, 'flags': 4, 'font': 'LiberationSerif', 'color': 0, 'ascender': 0.89111328125, 'descender': -0.21630859375, 'chars': [{'origin': [56.79999923706055, 95.50079345703125], 'bbox': [56.79999923706055, 84.80743408203125, 60.13398361206055, 98.09649658203125], 'c': 't'}, {'origin': [60.10000228881836, 95.50079345703125], 'bbox': [60.10000228881836, 84.80743408203125, 66.10000610351562, 98.09649658203125], 'c': 'h'}, {'origin': [66.10000610351562, 95.50079345703125], 'bbox': [66.10000610351562, 84.80743408203125, 69.43399047851562, 98.09649658203125], 'c': 'i'}, {'origin': [69.4000015258789, 95.50079345703125], 'bbox': [69.4000015258789, 84.80743408203125, 74.0699234008789, 98.09649658203125], 'c': 's'}, {'origin': [74.09200286865234, 95.50079345703125], 'bbox': [74.09200286865234, 84.80743408203125, 77.09200286865234, 98.09649658203125], 'c': ' '}, {'origin': [77.09200286865234, 95.50079345703125], 'bbox': [77.09200286865234, 84.80743408203125, 80.42598724365234, 98.09649658203125], 'c': 'i'}, {'origin': [80.39199829101562, 95.50079345703125], 'bbox': [80.39199829101562, 84.80743408203125, 85.06192016601562, 98.09649658203125], 'c': 's'}, {'origin': [85.08399963378906, 95.50079345703125], 'bbox': [85.08399963378906, 84.80743408203125, 88.08399963378906, 98.09649658203125], 'c': ' '}, {'origin': [88.08399963378906, 95.50079345703125], 'bbox': [88.08399963378906, 84.80743408203125, 92.75392150878906, 98.09649658203125], 'c': 's'}, {'origin': [92.7760009765625, 95.50079345703125], 'bbox': [92.7760009765625, 84.80743408203125, 98.7760009765625, 98.09649658203125], 'c': 'o'}, {'origin': [98.7760009765625, 95.50079345703125], 'bbox': [98.7760009765625, 84.80743408203125, 108.1099853515625, 98.09649658203125], 'c': 'm'}, {'origin': [108.07599639892578, 95.50079345703125], 'bbox': [108.07599639892578, 84.80743408203125, 113.40216827392578, 98.09649658203125], 'c': 'e'}, {'origin': [113.37999725341797, 95.50079345703125], 'bbox': [113.37999725341797, 84.80743408203125, 116.37999725341797, 98.09649658203125], 'c': ' '}, {'origin': [116.37999725341797, 95.50079345703125], 'bbox': [116.37999725341797, 84.80743408203125, 119.71398162841797, 98.09649658203125], 'c': 't'}, {'origin': [119.67999267578125, 95.50079345703125], 'bbox': [119.67999267578125, 84.80743408203125, 125.00616455078125, 98.09649658203125], 'c': 'e'}, {'origin': [124.98399353027344, 95.50079345703125], 'bbox': [124.98399353027344, 84.80743408203125, 130.98399353027344, 98.09649658203125], 'c': 'x'}, {'origin': [131.0679931640625, 95.50079345703125], 'bbox': [131.0679931640625, 84.80743408203125, 134.4019775390625, 98.09649658203125], 'c': 't'}], 'origin': [56.79999923706055, 95.50079345703125], 'bbox': [56.79999923706055, 84.80743408203125, 134.4019775390625, 98.09649658203125]}], 'wmode': 0, 'dir': [1.0, 0.0], 'bbox': [56.79999923706055, 84.80743408203125, 134.4019775390625, 98.09649658203125]}]}]\n"
     ]
    }
   ],
   "source": [
    "\n",
    "import json\n",
    "#f = open('test.html', 'w') \n",
    "\n",
    "pages_json = {}\n",
    "\n",
    "pages = doc.pages()\n",
    "for page in pages:\n",
    "    # https://pymupdf.readthedocs.io/en/latest/page.html#Page.get_text\n",
    "    page_cropbox = page.cropbox\n",
    "    page_info = page.get_text(\"rawjson\")\n",
    "    page_json = json.loads(page_info)\n",
    "    pages_json[page.number] = page_json\n",
    "\n",
    "# blocks of page 1\n",
    "print(pages_json[0]['blocks'])"
   ]
  },
  {
   "cell_type": "code",
   "execution_count": 148,
   "metadata": {},
   "outputs": [
    {
     "name": "stdout",
     "output_type": "stream",
     "text": [
      "[Rect(79.5999984741211, 57.2073974609375, 95.5960922241211, 70.4964599609375)]\n",
      "pdf\n",
      "\n",
      "Quad(Point(79.5999984741211, 57.2073974609375), Point(95.5960922241211, 57.2073974609375), Point(79.5999984741211, 70.4964599609375), Point(95.5960922241211, 70.4964599609375))\n",
      "[(7, 'ttf', 'TrueType', 'BAAAAA+LiberationSerif', 'F1', '')]\n"
     ]
    }
   ],
   "source": [
    "\"\"\"\n",
    "search for 'PDF' text on a page and do some tests\n",
    "\"\"\"\n",
    "doc.save(\"test1_test.pdf\", garbage=3, deflate=True)\n",
    "doc2 = fitz.open(\"test1_test.pdf\", filetype=\"pdf\")\n",
    "\n",
    "pages = doc2.pages()\n",
    "for page in pages:\n",
    "    \n",
    "    # Dit is de methode van tekst selecteren, of dat nou een text input field is \n",
    "    # of het een manier is om text de selecteren in een GUI\n",
    "    res = page.search_for('pdf')\n",
    "    \n",
    "    # get Rect of text, including the bounding box of text.\n",
    "    print(res)\n",
    "    \n",
    "    # test to extract text using rect\n",
    "    res2 = page.get_text(clip=res[0])\n",
    "    print(res2)\n",
    "    \n",
    "    # Make Quad of Rect\n",
    "    res_quad = res[0].quad\n",
    "    print(res_quad)\n",
    "    \n",
    "    print(page.get_fonts())\n",
    "    # add Redact annotation to select text to be redacted\n",
    "    redaction = page.add_redact_annot(res_quad, text=\"RED\", fontname=page.get_fonts()[0][4], fontsize=12, cross_out=False)\n",
    "    \n",
    "    page.apply_redactions()\n",
    "\n",
    "doc2.save(\"test1_res.pdf\", garbage=3, deflate=True)"
   ]
  },
  {
   "cell_type": "code",
   "execution_count": null,
   "metadata": {},
   "outputs": [],
   "source": []
  },
  {
   "cell_type": "code",
   "execution_count": null,
   "metadata": {},
   "outputs": [],
   "source": []
  }
 ],
 "metadata": {
  "kernelspec": {
   "display_name": "Python 3 (ipykernel)",
   "language": "python",
   "name": "python3"
  },
  "language_info": {
   "codemirror_mode": {
    "name": "ipython",
    "version": 3
   },
   "file_extension": ".py",
   "mimetype": "text/x-python",
   "name": "python",
   "nbconvert_exporter": "python",
   "pygments_lexer": "ipython3",
   "version": "3.8.10"
  }
 },
 "nbformat": 4,
 "nbformat_minor": 4
}
