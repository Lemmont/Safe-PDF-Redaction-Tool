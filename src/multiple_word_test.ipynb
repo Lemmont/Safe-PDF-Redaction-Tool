{
 "cells": [
  {
   "cell_type": "code",
   "execution_count": 1,
   "metadata": {},
   "outputs": [],
   "source": [
    "import fitz\n",
    "import re"
   ]
  },
  {
   "cell_type": "code",
   "execution_count": 13,
   "metadata": {},
   "outputs": [],
   "source": [
    "doc0 = fitz.open(\"../resources/testpdf/sns.pdf\", filetype=\"pdf\")\n",
    "doc1 = fitz.open(\"../resources/testpdf/pal.pdf\", filetype=\"pdf\")\n",
    "doc2 = fitz.open(\"../resources/testpdf/marx.pdf\", filetype=\"pdf\")\n",
    "doc3 = fitz.open(\"../resources/testpdf/pal.pdf\", filetype=\"pdf\")\n",
    "\n",
    "documents = [doc0, doc1, doc2, doc3]"
   ]
  },
  {
   "cell_type": "code",
   "execution_count": 30,
   "metadata": {},
   "outputs": [],
   "source": [
    "# print dict\n",
    "def printDict(dict, index=None):\n",
    "    for i in dict:\n",
    "        if index and len(index) > 0:\n",
    "            for j in index:\n",
    "                print(i, j, dict[i][j])\n",
    "                print()\n",
    "        else:\n",
    "            print(i, dict[i])\n",
    "            print()"
   ]
  },
  {
   "cell_type": "code",
   "execution_count": 32,
   "metadata": {},
   "outputs": [
    {
     "name": "stdout",
     "output_type": "stream",
     "text": [
      "0 {'Lang': ('string', 'NL-NL'), 'MarkInfo': ('dict', '<</Marked true>>'), 'Metadata': ('xref', '7 0 R'), 'Outlines': ('xref', '12 0 R'), 'PageLayout': ('name', '/OneColumn'), 'Pages': ('xref', '11 0 R'), 'StructTreeRoot': ('xref', '24 0 R'), 'Type': ('name', '/Catalog'), 'AcroForm': ('xref', '139 0 R')}\n",
      "\n",
      "1 {'Type': ('name', '/Catalog'), 'Pages': ('xref', '1 0 R'), 'OutputIntents': ('array', '[19 0 R]'), 'Metadata': ('xref', '20 0 R')}\n",
      "\n",
      "2 {'StructTreeRoot': ('xref', '3 0 R'), 'MarkInfo': ('dict', '<</Marked true>>'), 'Pages': ('xref', '4 0 R'), 'Type': ('name', '/Catalog'), 'PageLabels': ('dict', '<</Nums[0<</S/D>>]>>'), 'OutputIntents': ('array', '[5 0 R]'), 'PageMode': ('name', '/UseNone'), 'Lang': ('string', 'NL'), 'OpenAction': ('array', '[6 0 R/XYZ 0 841.9 0]'), 'Metadata': ('xref', '1 0 R')}\n",
      "\n",
      "3 {'Type': ('name', '/Catalog'), 'Pages': ('xref', '1 0 R'), 'OutputIntents': ('array', '[19 0 R]'), 'Metadata': ('xref', '20 0 R')}\n",
      "\n"
     ]
    }
   ],
   "source": [
    "# get root of all docs\n",
    "roots = {}\n",
    "for i in range(len(documents)):\n",
    "    root = {}\n",
    "    root_xref = documents[i].pdf_catalog()\n",
    "    for key in documents[i].xref_get_keys(root_xref):\n",
    "        root[key] = documents[i].xref_get_key(root_xref, key)\n",
    "    \n",
    "    roots[i] = root\n",
    "\n",
    "printDict(roots)"
   ]
  },
  {
   "cell_type": "code",
   "execution_count": null,
   "metadata": {},
   "outputs": [],
   "source": []
  }
 ],
 "metadata": {
  "kernelspec": {
   "display_name": "Python 3 (ipykernel)",
   "language": "python",
   "name": "python3"
  },
  "language_info": {
   "codemirror_mode": {
    "name": "ipython",
    "version": 3
   },
   "file_extension": ".py",
   "mimetype": "text/x-python",
   "name": "python",
   "nbconvert_exporter": "python",
   "pygments_lexer": "ipython3",
   "version": "3.8.10"
  }
 },
 "nbformat": 4,
 "nbformat_minor": 4
}
